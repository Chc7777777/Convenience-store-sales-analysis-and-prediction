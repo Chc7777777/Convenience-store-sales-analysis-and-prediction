{
 "cells": [
  {
   "cell_type": "code",
   "execution_count": 1,
   "id": "c88862a6-b303-49c8-adf3-74797b099203",
   "metadata": {},
   "outputs": [],
   "source": [
    "import matplotlib.pyplot as plt"
   ]
  },
  {
   "cell_type": "code",
   "execution_count": 2,
   "id": "fb86cb7a-85c0-4b42-8979-04ba584d2a94",
   "metadata": {
    "tags": []
   },
   "outputs": [],
   "source": [
    "import pandas as pd"
   ]
  },
  {
   "cell_type": "code",
   "execution_count": 3,
   "id": "f1567a10-3808-4063-ae31-3fc03feaf109",
   "metadata": {
    "tags": []
   },
   "outputs": [],
   "source": [
    "#导入数据"
   ]
  },
  {
   "cell_type": "code",
   "execution_count": 4,
   "id": "3b0ff1fb-073d-4c38-ab54-c1609281a147",
   "metadata": {},
   "outputs": [],
   "source": [
    "# 指定要导入的XLSX文件的文件路径\n",
    "file_path = '商品销售数据.xlsx'\n",
    "# 使用pandas的read_excel函数读取XLSX文件\n",
    "data = pd.read_excel(file_path)"
   ]
  },
  {
   "cell_type": "code",
   "execution_count": 5,
   "id": "73ecb2a0-d51b-491b-810c-c0ae9ac2cf63",
   "metadata": {},
   "outputs": [],
   "source": [
    "#数据正常 这里跳过检验 (可以用箱线图判断数据是否异常)"
   ]
  },
  {
   "cell_type": "code",
   "execution_count": 6,
   "id": "315ecc51-9e17-40c6-be93-808bf6011a8b",
   "metadata": {},
   "outputs": [
    {
     "data": {
      "text/html": [
       "<div>\n",
       "<style scoped>\n",
       "    .dataframe tbody tr th:only-of-type {\n",
       "        vertical-align: middle;\n",
       "    }\n",
       "\n",
       "    .dataframe tbody tr th {\n",
       "        vertical-align: top;\n",
       "    }\n",
       "\n",
       "    .dataframe thead th {\n",
       "        text-align: right;\n",
       "    }\n",
       "</style>\n",
       "<table border=\"1\" class=\"dataframe\">\n",
       "  <thead>\n",
       "    <tr style=\"text-align: right;\">\n",
       "      <th></th>\n",
       "      <th>商品代号</th>\n",
       "      <th>销售月份</th>\n",
       "      <th>销售点类型</th>\n",
       "      <th>销售额（万元）</th>\n",
       "    </tr>\n",
       "  </thead>\n",
       "  <tbody>\n",
       "    <tr>\n",
       "      <th>0</th>\n",
       "      <td>Tape 10</td>\n",
       "      <td>April</td>\n",
       "      <td>CBD店</td>\n",
       "      <td>2.5</td>\n",
       "    </tr>\n",
       "    <tr>\n",
       "      <th>1</th>\n",
       "      <td>Safety 8</td>\n",
       "      <td>August</td>\n",
       "      <td>社区店</td>\n",
       "      <td>10.0</td>\n",
       "    </tr>\n",
       "    <tr>\n",
       "      <th>2</th>\n",
       "      <td>Safety 2</td>\n",
       "      <td>February</td>\n",
       "      <td>社区店</td>\n",
       "      <td>10.0</td>\n",
       "    </tr>\n",
       "    <tr>\n",
       "      <th>3</th>\n",
       "      <td>Safety 8</td>\n",
       "      <td>November</td>\n",
       "      <td>社区店</td>\n",
       "      <td>10.0</td>\n",
       "    </tr>\n",
       "    <tr>\n",
       "      <th>4</th>\n",
       "      <td>Tape 10</td>\n",
       "      <td>October</td>\n",
       "      <td>社区店</td>\n",
       "      <td>2.5</td>\n",
       "    </tr>\n",
       "    <tr>\n",
       "      <th>...</th>\n",
       "      <td>...</td>\n",
       "      <td>...</td>\n",
       "      <td>...</td>\n",
       "      <td>...</td>\n",
       "    </tr>\n",
       "    <tr>\n",
       "      <th>1321</th>\n",
       "      <td>Tape 10</td>\n",
       "      <td>November</td>\n",
       "      <td>社区店</td>\n",
       "      <td>2.5</td>\n",
       "    </tr>\n",
       "    <tr>\n",
       "      <th>1322</th>\n",
       "      <td>Safety 1</td>\n",
       "      <td>October</td>\n",
       "      <td>CBD店</td>\n",
       "      <td>12.0</td>\n",
       "    </tr>\n",
       "    <tr>\n",
       "      <th>1323</th>\n",
       "      <td>Safety 8</td>\n",
       "      <td>October</td>\n",
       "      <td>CBD店</td>\n",
       "      <td>10.0</td>\n",
       "    </tr>\n",
       "    <tr>\n",
       "      <th>1324</th>\n",
       "      <td>Tape 6</td>\n",
       "      <td>October</td>\n",
       "      <td>社区店</td>\n",
       "      <td>2.5</td>\n",
       "    </tr>\n",
       "    <tr>\n",
       "      <th>1325</th>\n",
       "      <td>Safety 8</td>\n",
       "      <td>December</td>\n",
       "      <td>CBD店</td>\n",
       "      <td>10.0</td>\n",
       "    </tr>\n",
       "  </tbody>\n",
       "</table>\n",
       "<p>1326 rows × 4 columns</p>\n",
       "</div>"
      ],
      "text/plain": [
       "          商品代号      销售月份 销售点类型  销售额（万元）\n",
       "0      Tape 10     April  CBD店      2.5\n",
       "1     Safety 8    August   社区店     10.0\n",
       "2     Safety 2  February   社区店     10.0\n",
       "3     Safety 8  November   社区店     10.0\n",
       "4      Tape 10   October   社区店      2.5\n",
       "...        ...       ...   ...      ...\n",
       "1321   Tape 10  November   社区店      2.5\n",
       "1322  Safety 1   October  CBD店     12.0\n",
       "1323  Safety 8   October  CBD店     10.0\n",
       "1324    Tape 6   October   社区店      2.5\n",
       "1325  Safety 8  December  CBD店     10.0\n",
       "\n",
       "[1326 rows x 4 columns]"
      ]
     },
     "execution_count": 6,
     "metadata": {},
     "output_type": "execute_result"
    }
   ],
   "source": [
    "data"
   ]
  },
  {
   "cell_type": "code",
   "execution_count": 7,
   "id": "8d8b06f6-9651-408b-bbb7-c0118cdebc61",
   "metadata": {},
   "outputs": [],
   "source": [
    "#根据销售点 总销售额"
   ]
  },
  {
   "cell_type": "code",
   "execution_count": 8,
   "id": "3c4e9b6e-c54a-449c-b5b7-3af62f8605cf",
   "metadata": {
    "tags": []
   },
   "outputs": [],
   "source": [
    "# 创建DataFrame\n",
    "df = pd.DataFrame(data)\n",
    "# 使用groupby()和sum()函数计算总销售额\n",
    "total_sales = df.groupby('销售点类型')['销售额（万元）'].sum()"
   ]
  },
  {
   "cell_type": "code",
   "execution_count": 9,
   "id": "bd40bd97-45e7-4565-a7b3-6ea65a816ce2",
   "metadata": {
    "tags": []
   },
   "outputs": [
    {
     "data": {
      "text/plain": [
       "销售点类型\n",
       "CBD店    4985.5\n",
       "社区店     4606.5\n",
       "Name: 销售额（万元）, dtype: float64"
      ]
     },
     "execution_count": 9,
     "metadata": {},
     "output_type": "execute_result"
    }
   ],
   "source": [
    "total_sales"
   ]
  },
  {
   "cell_type": "code",
   "execution_count": 10,
   "id": "fdcddce3-af6d-4c45-a10e-952b7be2153e",
   "metadata": {
    "tags": []
   },
   "outputs": [
    {
     "data": {
      "image/png": "[encoded data removed]",
      "text/plain": [
       "<Figure size 640x480 with 1 Axes>"
      ]
     },
     "metadata": {},
     "output_type": "display_data"
    }
   ],
   "source": [
    "#显示中文\n",
    "plt.rcParams['font.sans-serif'] = ['SimHei']  # 使用SimHei字体（黑体）\n",
    "plt.rcParams['axes.unicode_minus'] = False  # 解决坐标轴负号显示问题\n",
    "\n",
    "#画图\n",
    "plt.bar(total_sales.index, total_sales.values,color=['#53868B','#53268B'])\n",
    "plt.title('Total Sales by Sales Point Type')\n",
    "plt.xlabel('Sales Point Type')\n",
    "plt.ylabel('Total Sales')\n",
    "# 添加数据标签\n",
    "for x, y in zip(total_sales.index, total_sales.values):\n",
    "    plt.text(x, y, f'{y}', ha='center', va='bottom')\n",
    "\n",
    "#plt.bar_label(label_type='edge')\n",
    "# 显示柱形图\n",
    "plt.show()"
   ]
  },
  {
   "cell_type": "code",
   "execution_count": 11,
   "id": "4729c8cc-4db7-4cb2-9842-33bf1dedec63",
   "metadata": {},
   "outputs": [],
   "source": [
    "#画十二个月份的销售额柱形图 根据销售点来分"
   ]
  },
  {
   "cell_type": "code",
   "execution_count": 12,
   "id": "c3a600b8-1c94-41f0-b1e6-94ac3d76031c",
   "metadata": {
    "tags": []
   },
   "outputs": [
    {
     "data": {
      "text/html": [
       "<div>\n",
       "<style scoped>\n",
       "    .dataframe tbody tr th:only-of-type {\n",
       "        vertical-align: middle;\n",
       "    }\n",
       "\n",
       "    .dataframe tbody tr th {\n",
       "        vertical-align: top;\n",
       "    }\n",
       "\n",
       "    .dataframe thead th {\n",
       "        text-align: right;\n",
       "    }\n",
       "</style>\n",
       "<table border=\"1\" class=\"dataframe\">\n",
       "  <thead>\n",
       "    <tr style=\"text-align: right;\">\n",
       "      <th></th>\n",
       "      <th>商品代号</th>\n",
       "      <th>销售月份</th>\n",
       "      <th>销售点类型</th>\n",
       "      <th>销售额（万元）</th>\n",
       "    </tr>\n",
       "  </thead>\n",
       "  <tbody>\n",
       "    <tr>\n",
       "      <th>0</th>\n",
       "      <td>Tape 10</td>\n",
       "      <td>April</td>\n",
       "      <td>CBD店</td>\n",
       "      <td>2.5</td>\n",
       "    </tr>\n",
       "    <tr>\n",
       "      <th>1</th>\n",
       "      <td>Safety 8</td>\n",
       "      <td>August</td>\n",
       "      <td>社区店</td>\n",
       "      <td>10.0</td>\n",
       "    </tr>\n",
       "    <tr>\n",
       "      <th>2</th>\n",
       "      <td>Safety 2</td>\n",
       "      <td>February</td>\n",
       "      <td>社区店</td>\n",
       "      <td>10.0</td>\n",
       "    </tr>\n",
       "    <tr>\n",
       "      <th>3</th>\n",
       "      <td>Safety 8</td>\n",
       "      <td>November</td>\n",
       "      <td>社区店</td>\n",
       "      <td>10.0</td>\n",
       "    </tr>\n",
       "    <tr>\n",
       "      <th>4</th>\n",
       "      <td>Tape 10</td>\n",
       "      <td>October</td>\n",
       "      <td>社区店</td>\n",
       "      <td>2.5</td>\n",
       "    </tr>\n",
       "    <tr>\n",
       "      <th>...</th>\n",
       "      <td>...</td>\n",
       "      <td>...</td>\n",
       "      <td>...</td>\n",
       "      <td>...</td>\n",
       "    </tr>\n",
       "    <tr>\n",
       "      <th>1321</th>\n",
       "      <td>Tape 10</td>\n",
       "      <td>November</td>\n",
       "      <td>社区店</td>\n",
       "      <td>2.5</td>\n",
       "    </tr>\n",
       "    <tr>\n",
       "      <th>1322</th>\n",
       "      <td>Safety 1</td>\n",
       "      <td>October</td>\n",
       "      <td>CBD店</td>\n",
       "      <td>12.0</td>\n",
       "    </tr>\n",
       "    <tr>\n",
       "      <th>1323</th>\n",
       "      <td>Safety 8</td>\n",
       "      <td>October</td>\n",
       "      <td>CBD店</td>\n",
       "      <td>10.0</td>\n",
       "    </tr>\n",
       "    <tr>\n",
       "      <th>1324</th>\n",
       "      <td>Tape 6</td>\n",
       "      <td>October</td>\n",
       "      <td>社区店</td>\n",
       "      <td>2.5</td>\n",
       "    </tr>\n",
       "    <tr>\n",
       "      <th>1325</th>\n",
       "      <td>Safety 8</td>\n",
       "      <td>December</td>\n",
       "      <td>CBD店</td>\n",
       "      <td>10.0</td>\n",
       "    </tr>\n",
       "  </tbody>\n",
       "</table>\n",
       "<p>1326 rows × 4 columns</p>\n",
       "</div>"
      ],
      "text/plain": [
       "          商品代号      销售月份 销售点类型  销售额（万元）\n",
       "0      Tape 10     April  CBD店      2.5\n",
       "1     Safety 8    August   社区店     10.0\n",
       "2     Safety 2  February   社区店     10.0\n",
       "3     Safety 8  November   社区店     10.0\n",
       "4      Tape 10   October   社区店      2.5\n",
       "...        ...       ...   ...      ...\n",
       "1321   Tape 10  November   社区店      2.5\n",
       "1322  Safety 1   October  CBD店     12.0\n",
       "1323  Safety 8   October  CBD店     10.0\n",
       "1324    Tape 6   October   社区店      2.5\n",
       "1325  Safety 8  December  CBD店     10.0\n",
       "\n",
       "[1326 rows x 4 columns]"
      ]
     },
     "execution_count": 12,
     "metadata": {},
     "output_type": "execute_result"
    }
   ],
   "source": [
    "df"
   ]
  },
  {
   "cell_type": "code",
   "execution_count": 13,
   "id": "efe49c02-5806-405d-9f10-3e0be5500467",
   "metadata": {
    "tags": []
   },
   "outputs": [
    {
     "name": "stderr",
     "output_type": "stream",
     "text": [
      "C:\\Users\\Chc\\AppData\\Local\\Temp\\ipykernel_15416\\3434160882.py:2: FutureWarning: The provided callable <built-in function sum> is currently using DataFrameGroupBy.sum. In a future version of pandas, the provided callable will be used directly. To keep current behavior pass the string \"sum\" instead.\n",
      "  num = pd.pivot_table(data, index='销售点类型', columns='销售月份', values='销售额（万元）',aggfunc=sum)\n"
     ]
    }
   ],
   "source": [
    "#CBD店和社区店不同月份销售额对比\n",
    "num = pd.pivot_table(data, index='销售点类型', columns='销售月份', values='销售额（万元）',aggfunc=sum) "
   ]
  },
  {
   "cell_type": "code",
   "execution_count": 14,
   "id": "76d43371-d736-48f5-b1ea-196d22c77b80",
   "metadata": {
    "tags": []
   },
   "outputs": [
    {
     "data": {
      "text/html": [
       "<div>\n",
       "<style scoped>\n",
       "    .dataframe tbody tr th:only-of-type {\n",
       "        vertical-align: middle;\n",
       "    }\n",
       "\n",
       "    .dataframe tbody tr th {\n",
       "        vertical-align: top;\n",
       "    }\n",
       "\n",
       "    .dataframe thead th {\n",
       "        text-align: right;\n",
       "    }\n",
       "</style>\n",
       "<table border=\"1\" class=\"dataframe\">\n",
       "  <thead>\n",
       "    <tr style=\"text-align: right;\">\n",
       "      <th>销售月份</th>\n",
       "      <th>April</th>\n",
       "      <th>August</th>\n",
       "      <th>December</th>\n",
       "      <th>February</th>\n",
       "      <th>January</th>\n",
       "      <th>July</th>\n",
       "      <th>June</th>\n",
       "      <th>March</th>\n",
       "      <th>May</th>\n",
       "      <th>November</th>\n",
       "      <th>October</th>\n",
       "      <th>September</th>\n",
       "    </tr>\n",
       "    <tr>\n",
       "      <th>销售点类型</th>\n",
       "      <th></th>\n",
       "      <th></th>\n",
       "      <th></th>\n",
       "      <th></th>\n",
       "      <th></th>\n",
       "      <th></th>\n",
       "      <th></th>\n",
       "      <th></th>\n",
       "      <th></th>\n",
       "      <th></th>\n",
       "      <th></th>\n",
       "      <th></th>\n",
       "    </tr>\n",
       "  </thead>\n",
       "  <tbody>\n",
       "    <tr>\n",
       "      <th>CBD店</th>\n",
       "      <td>407.0</td>\n",
       "      <td>372.5</td>\n",
       "      <td>463.0</td>\n",
       "      <td>363.0</td>\n",
       "      <td>482.0</td>\n",
       "      <td>446.0</td>\n",
       "      <td>400.5</td>\n",
       "      <td>299.0</td>\n",
       "      <td>408.5</td>\n",
       "      <td>503.5</td>\n",
       "      <td>394.0</td>\n",
       "      <td>446.5</td>\n",
       "    </tr>\n",
       "    <tr>\n",
       "      <th>社区店</th>\n",
       "      <td>369.5</td>\n",
       "      <td>311.5</td>\n",
       "      <td>406.0</td>\n",
       "      <td>457.0</td>\n",
       "      <td>363.0</td>\n",
       "      <td>395.0</td>\n",
       "      <td>450.0</td>\n",
       "      <td>332.0</td>\n",
       "      <td>404.5</td>\n",
       "      <td>370.0</td>\n",
       "      <td>359.0</td>\n",
       "      <td>389.0</td>\n",
       "    </tr>\n",
       "  </tbody>\n",
       "</table>\n",
       "</div>"
      ],
      "text/plain": [
       "销售月份   April  August  December  February  January   July   June  March    May  \\\n",
       "销售点类型                                                                           \n",
       "CBD店   407.0   372.5     463.0     363.0    482.0  446.0  400.5  299.0  408.5   \n",
       "社区店    369.5   311.5     406.0     457.0    363.0  395.0  450.0  332.0  404.5   \n",
       "\n",
       "销售月份   November  October  September  \n",
       "销售点类型                                \n",
       "CBD店      503.5    394.0      446.5  \n",
       "社区店       370.0    359.0      389.0  "
      ]
     },
     "execution_count": 14,
     "metadata": {},
     "output_type": "execute_result"
    }
   ],
   "source": [
    "num"
   ]
  },
  {
   "cell_type": "code",
   "execution_count": 15,
   "id": "3c3c7ca2-5dae-48a7-b078-9403c396a8b7",
   "metadata": {
    "tags": []
   },
   "outputs": [],
   "source": [
    "import numpy as np"
   ]
  },
  {
   "cell_type": "code",
   "execution_count": 16,
   "id": "90ca5b88-4eef-4abc-bcdc-f197e429dd39",
   "metadata": {
    "tags": []
   },
   "outputs": [],
   "source": [
    "month_sort=['January','February','March','April','May','June','July','August','September','October','November','December']\n",
    "#定义索引顺序\n",
    "num=num[month_sort]"
   ]
  },
  {
   "cell_type": "code",
   "execution_count": 17,
   "id": "c521ff52-8845-4b8b-a06f-6a4cdf6cd78e",
   "metadata": {
    "tags": []
   },
   "outputs": [
    {
     "data": {
      "image/png": "[encoded data removed]",
      "text/plain": [
       "<Figure size 640x480 with 1 Axes>"
      ]
     },
     "metadata": {},
     "output_type": "display_data"
    }
   ],
   "source": [
    "bar_width = 0.4\n",
    "color = ['#53868B','#7AC5CD']\n",
    "#编写两个柱状图的代码   enumerate是给数值填上索引顺序\n",
    "for j,i in enumerate(num.index) :\n",
    "    plt.bar(np.arange(12)+bar_width*j, num.loc[i,:], bar_width, label=i, color=color[j])     \n",
    "    \n",
    "plt.xticks(np.arange(12)+0.2, num.columns, rotation=60)  #修改x轴标签 以及替换索引名称,改变x轴标签位置\n",
    "plt.xlabel('销售月份')\n",
    "plt.ylabel('销售额(万元)')\n",
    "plt.title('不同销售店的不同月份销售额对比')\n",
    "plt.legend()\n",
    "plt.show()"
   ]
  },
  {
   "cell_type": "code",
   "execution_count": null,
   "id": "ba0ec7e4-1db5-4fa6-9d09-df6e98ce3e2f",
   "metadata": {},
   "outputs": [],
   "source": []
  },
  {
   "cell_type": "code",
   "execution_count": 55,
   "id": "024148d9-89d9-48be-91b2-769499845724",
   "metadata": {
    "tags": []
   },
   "outputs": [
    {
     "data": {
      "text/html": [
       "<div>\n",
       "<style scoped>\n",
       "    .dataframe tbody tr th:only-of-type {\n",
       "        vertical-align: middle;\n",
       "    }\n",
       "\n",
       "    .dataframe tbody tr th {\n",
       "        vertical-align: top;\n",
       "    }\n",
       "\n",
       "    .dataframe thead th {\n",
       "        text-align: right;\n",
       "    }\n",
       "</style>\n",
       "<table border=\"1\" class=\"dataframe\">\n",
       "  <thead>\n",
       "    <tr style=\"text-align: right;\">\n",
       "      <th>销售点类型</th>\n",
       "      <th>CBD店</th>\n",
       "      <th>社区店</th>\n",
       "    </tr>\n",
       "  </thead>\n",
       "  <tbody>\n",
       "    <tr>\n",
       "      <th>count</th>\n",
       "      <td>12.000000</td>\n",
       "      <td>12.000000</td>\n",
       "    </tr>\n",
       "    <tr>\n",
       "      <th>mean</th>\n",
       "      <td>415.458333</td>\n",
       "      <td>383.875000</td>\n",
       "    </tr>\n",
       "    <tr>\n",
       "      <th>std</th>\n",
       "      <td>56.648621</td>\n",
       "      <td>42.818393</td>\n",
       "    </tr>\n",
       "    <tr>\n",
       "      <th>min</th>\n",
       "      <td>299.000000</td>\n",
       "      <td>311.500000</td>\n",
       "    </tr>\n",
       "    <tr>\n",
       "      <th>25%</th>\n",
       "      <td>388.625000</td>\n",
       "      <td>362.000000</td>\n",
       "    </tr>\n",
       "    <tr>\n",
       "      <th>50%</th>\n",
       "      <td>407.750000</td>\n",
       "      <td>379.500000</td>\n",
       "    </tr>\n",
       "    <tr>\n",
       "      <th>75%</th>\n",
       "      <td>450.625000</td>\n",
       "      <td>404.875000</td>\n",
       "    </tr>\n",
       "    <tr>\n",
       "      <th>max</th>\n",
       "      <td>503.500000</td>\n",
       "      <td>457.000000</td>\n",
       "    </tr>\n",
       "  </tbody>\n",
       "</table>\n",
       "</div>"
      ],
      "text/plain": [
       "销售点类型        CBD店         社区店\n",
       "count   12.000000   12.000000\n",
       "mean   415.458333  383.875000\n",
       "std     56.648621   42.818393\n",
       "min    299.000000  311.500000\n",
       "25%    388.625000  362.000000\n",
       "50%    407.750000  379.500000\n",
       "75%    450.625000  404.875000\n",
       "max    503.500000  457.000000"
      ]
     },
     "execution_count": 55,
     "metadata": {},
     "output_type": "execute_result"
    }
   ],
   "source": [
    "num.T.describe()"
   ]
  },
  {
   "cell_type": "code",
   "execution_count": 58,
   "id": "48d83bbd-9c33-4132-ba26-1dff48116007",
   "metadata": {
    "tags": []
   },
   "outputs": [
    {
     "data": {
      "text/html": [
       "<div>\n",
       "<style scoped>\n",
       "    .dataframe tbody tr th:only-of-type {\n",
       "        vertical-align: middle;\n",
       "    }\n",
       "\n",
       "    .dataframe tbody tr th {\n",
       "        vertical-align: top;\n",
       "    }\n",
       "\n",
       "    .dataframe thead th {\n",
       "        text-align: right;\n",
       "    }\n",
       "</style>\n",
       "<table border=\"1\" class=\"dataframe\">\n",
       "  <thead>\n",
       "    <tr style=\"text-align: right;\">\n",
       "      <th></th>\n",
       "      <th>mean</th>\n",
       "      <th>std</th>\n",
       "      <th>min</th>\n",
       "      <th>max</th>\n",
       "    </tr>\n",
       "    <tr>\n",
       "      <th>销售点类型</th>\n",
       "      <th></th>\n",
       "      <th></th>\n",
       "      <th></th>\n",
       "      <th></th>\n",
       "    </tr>\n",
       "  </thead>\n",
       "  <tbody>\n",
       "    <tr>\n",
       "      <th>CBD店</th>\n",
       "      <td>415.458333</td>\n",
       "      <td>56.648621</td>\n",
       "      <td>299.0</td>\n",
       "      <td>503.5</td>\n",
       "    </tr>\n",
       "    <tr>\n",
       "      <th>社区店</th>\n",
       "      <td>383.875000</td>\n",
       "      <td>42.818393</td>\n",
       "      <td>311.5</td>\n",
       "      <td>457.0</td>\n",
       "    </tr>\n",
       "  </tbody>\n",
       "</table>\n",
       "</div>"
      ],
      "text/plain": [
       "             mean        std    min    max\n",
       "销售点类型                                     \n",
       "CBD店   415.458333  56.648621  299.0  503.5\n",
       "社区店    383.875000  42.818393  311.5  457.0"
      ]
     },
     "execution_count": 58,
     "metadata": {},
     "output_type": "execute_result"
    }
   ],
   "source": [
    "ind = ['mean','std','min','max']\n",
    "num1=num.T.describe().loc[ind, :].T\n",
    "num1"
   ]
  },
  {
   "cell_type": "code",
   "execution_count": 62,
   "id": "4a029111-cd24-496f-b8a2-3043b690ad93",
   "metadata": {
    "tags": []
   },
   "outputs": [
    {
     "data": {
      "image/png": "[encoded data removed]",
      "text/plain": [
       "<Figure size 640x480 with 1 Axes>"
      ]
     },
     "metadata": {},
     "output_type": "display_data"
    }
   ],
   "source": [
    "bar_width = 0.4\n",
    "color = ['#53868B','#7AC5CD']\n",
    "#编写两个柱状图的代码   enumerate是给数值填上索引顺序\n",
    "for j,i in enumerate(num1.index) :\n",
    "    plt.bar(np.arange(4)+bar_width*j, num1.loc[i,:], bar_width, label=i, color=color[j])     \n",
    "    \n",
    "plt.xticks(np.arange(4)+0.2, num1.columns)  #修改x轴标签 以及替换索引名称\n",
    "plt.xlabel('数据指标')\n",
    "plt.ylabel('销售额(万元)')\n",
    "plt.title('不同销售店的不同月份销售额对比')\n",
    "plt.legend()\n",
    "plt.show()"
   ]
  },
  {
   "cell_type": "code",
   "execution_count": 64,
   "id": "8b10e4f6-ac82-4d05-96b2-02508e560c19",
   "metadata": {
    "tags": []
   },
   "outputs": [],
   "source": [
    "#根据商品类型的销售额 按月份来分"
   ]
  },
  {
   "cell_type": "code",
   "execution_count": 11,
   "id": "ec7679a4-b778-40d0-a4bd-34aaa4ec25bc",
   "metadata": {
    "tags": []
   },
   "outputs": [],
   "source": [
    "# 将英文月份转换为月份序号\n",
    "month_to_number = {\n",
    "    'January': 1, 'February': 2, 'March': 3, 'April': 4, 'May': 5, 'June': 6,\n",
    "    'July': 7, 'August': 8, 'September': 9, 'October': 10, 'November': 11, 'December': 12\n",
    "}\n",
    "df['销售月份'] = df['销售月份'].map(month_to_number)"
   ]
  },
  {
   "cell_type": "code",
   "execution_count": 12,
   "id": "d368ddaf-8606-4046-acf0-79e83e23b4f3",
   "metadata": {
    "tags": []
   },
   "outputs": [],
   "source": [
    "#设置空值为0\n",
    "df['销售额（万元）'] = df['销售额（万元）'].fillna(0)"
   ]
  },
  {
   "cell_type": "code",
   "execution_count": 13,
   "id": "709ce7a4-181d-489b-8344-a5b890b4a911",
   "metadata": {
    "tags": []
   },
   "outputs": [
    {
     "data": {
      "text/plain": [
       "0        2.5\n",
       "1       10.0\n",
       "2       10.0\n",
       "3       10.0\n",
       "4        2.5\n",
       "        ... \n",
       "1321     2.5\n",
       "1322    12.0\n",
       "1323    10.0\n",
       "1324     2.5\n",
       "1325    10.0\n",
       "Name: 销售额（万元）, Length: 1326, dtype: float64"
      ]
     },
     "execution_count": 13,
     "metadata": {},
     "output_type": "execute_result"
    }
   ],
   "source": [
    "df['销售额（万元）']"
   ]
  },
  {
   "cell_type": "code",
   "execution_count": 34,
   "id": "41065f80-fbf2-4553-af3f-33c5e473fc10",
   "metadata": {
    "tags": []
   },
   "outputs": [],
   "source": [
    "# 使用groupby()和sum()函数计算各商品总销售额\n",
    "product_total_sales = df.groupby(['商品代号','销售月份'])['销售额（万元）'].sum()"
   ]
  },
  {
   "cell_type": "code",
   "execution_count": null,
   "id": "59b9ca37-7e38-4a99-8044-4c972b44d86a",
   "metadata": {},
   "outputs": [],
   "source": []
  },
  {
   "cell_type": "code",
   "execution_count": 37,
   "id": "a87b2473-5b8c-4e31-9f28-70ebf47b5651",
   "metadata": {
    "tags": []
   },
   "outputs": [],
   "source": [
    "# 重塑数据框以使商品代号成为列\n",
    "product_total_sales = product_total_sales.unstack(level=0)"
   ]
  },
  {
   "cell_type": "code",
   "execution_count": 38,
   "id": "e57dc849-3a13-4526-a6fe-a0b5841af02f",
   "metadata": {
    "tags": []
   },
   "outputs": [
    {
     "name": "stdout",
     "output_type": "stream",
     "text": [
      "商品代号  Adhesive 1  Adhesive 10  Adhesive 2  Adhesive 3  Adhesive 4  Adhesive 5  \\\n",
      "销售月份                                                                            \n",
      "1            NaN          7.0         7.0         NaN        21.0        21.0   \n",
      "2            NaN         14.0         7.0         7.0        28.0        14.0   \n",
      "3            NaN          NaN         NaN         7.0        35.0        21.0   \n",
      "4            NaN          7.0         NaN         NaN        14.0        35.0   \n",
      "5            NaN          NaN        14.0         7.0        21.0        14.0   \n",
      "6            NaN          NaN         NaN         NaN        35.0        14.0   \n",
      "7            NaN          NaN         7.0        14.0        21.0        28.0   \n",
      "8            NaN          7.0         7.0         7.0        28.0         NaN   \n",
      "9            8.0          7.0         NaN         7.0         NaN         7.0   \n",
      "10           8.0          7.0        14.0         NaN         7.0        14.0   \n",
      "11           NaN         14.0         NaN         NaN        21.0         NaN   \n",
      "12           8.0          7.0         7.0         NaN         7.0         NaN   \n",
      "\n",
      "商品代号  Adhesive 6  Adhesive 7  Adhesive 8  Adhesive 9  ...  Tape 1  Tape 10  \\\n",
      "销售月份                                                  ...                    \n",
      "1            NaN         NaN         NaN         NaN  ...     6.0     45.0   \n",
      "2            7.0         7.0         NaN         NaN  ...     9.0     47.5   \n",
      "3            NaN         7.0        14.0        21.0  ...     6.0     35.0   \n",
      "4            NaN         7.0         NaN         NaN  ...     3.0     42.5   \n",
      "5            NaN         NaN         NaN         7.0  ...     6.0     45.0   \n",
      "6            7.0        14.0         7.0        14.0  ...     9.0     47.5   \n",
      "7            7.0        14.0         7.0         NaN  ...     6.0     45.0   \n",
      "8            NaN         7.0         NaN         7.0  ...    15.0     37.5   \n",
      "9            NaN         NaN         NaN         7.0  ...    15.0     35.0   \n",
      "10           NaN         7.0         7.0        21.0  ...     6.0     25.0   \n",
      "11           7.0         7.0         NaN         7.0  ...     9.0     60.0   \n",
      "12          14.0         NaN         7.0         7.0  ...     3.0     25.0   \n",
      "\n",
      "商品代号  Tape 2  Tape 3  Tape 4  Tape 5  Tape 6  Tape 7  Tape 8  Tape 9  \n",
      "销售月份                                                                  \n",
      "1        5.0     NaN     2.5     2.5     5.0    25.0     NaN     NaN  \n",
      "2        NaN     2.5     2.5     5.0     NaN    15.0     2.5     NaN  \n",
      "3        NaN     NaN     2.5     NaN    12.5    25.0     NaN     5.0  \n",
      "4        2.5     NaN     5.0     5.0     NaN    25.0     2.5     NaN  \n",
      "5        7.5     2.5     2.5     2.5    10.0    15.0     2.5     2.5  \n",
      "6        NaN     5.0     2.5    10.0     NaN    27.5     NaN     NaN  \n",
      "7        NaN     2.5     NaN     2.5     NaN    35.0     2.5     7.5  \n",
      "8        NaN     2.5     5.0     NaN     7.5    35.0     NaN     2.5  \n",
      "9        5.0     NaN     5.0     5.0     5.0    32.5     2.5     2.5  \n",
      "10       NaN     NaN     2.5    10.0    12.5    27.5     5.0     7.5  \n",
      "11       2.5     NaN     NaN     2.5     7.5    45.0     2.5     2.5  \n",
      "12       2.5     NaN     5.0     2.5     7.5    32.5     NaN     NaN  \n",
      "\n",
      "[12 rows x 30 columns]\n"
     ]
    }
   ],
   "source": [
    "print(product_total_sales)"
   ]
  },
  {
   "cell_type": "code",
   "execution_count": 22,
   "id": "64edf129-3f1c-4079-a868-79ca0aaa824d",
   "metadata": {
    "tags": []
   },
   "outputs": [],
   "source": [
    "subcategory_to_category = {\n",
    "    'Adhesive 1': 'Adhesive',\n",
    "    'Adhesive 2': 'Adhesive',\n",
    "    'Adhesive 3': 'Adhesive',\n",
    "    'Adhesive 4': 'Adhesive',\n",
    "    'Adhesive 5': 'Adhesive',\n",
    "    'Adhesive 6': 'Adhesive',\n",
    "    'Adhesive 7': 'Adhesive',\n",
    "    'Adhesive 8': 'Adhesive',\n",
    "    'Adhesive 9': 'Adhesive',\n",
    "    'Adhesive 10': 'Adhesive',\n",
    "    \n",
    "    'Tape 1': 'Tape',\n",
    "    'Tape 2': 'Tape',\n",
    "    'Tape 3': 'Tape',\n",
    "    'Tape 4': 'Tape',\n",
    "    'Tape 5': 'Tape',\n",
    "    'Tape 6': 'Tape',\n",
    "    'Tape 7': 'Tape',\n",
    "    'Tape 8': 'Tape',\n",
    "    'Tape 9': 'Tape',\n",
    "    'Tape 10': 'Tape',\n",
    "\n",
    "    'Safety 1': 'Safety',\n",
    "    'Safety 2': 'Safety',\n",
    "    'Safety 3': 'Safety',\n",
    "    'Safety 4': 'Safety',\n",
    "    'Safety 5': 'Safety',\n",
    "    'Safety 6': 'Safety',\n",
    "    'Safety 7': 'Safety',\n",
    "    'Safety 8': 'Safety',\n",
    "    'Safety 9': 'Safety',\n",
    "    'Safety 10': 'Safety',\n",
    "}\n"
   ]
  },
  {
   "cell_type": "code",
   "execution_count": 24,
   "id": "a3cfd2d4-9825-4142-9a76-ae8dcbeb2de1",
   "metadata": {
    "tags": []
   },
   "outputs": [],
   "source": [
    "df['商品大类'] = df['商品代号'].map(subcategory_to_category)\n"
   ]
  },
  {
   "cell_type": "code",
   "execution_count": null,
   "id": "0b05add1-74d1-4f7b-8537-4aa9d7f60061",
   "metadata": {
    "tags": []
   },
   "outputs": [],
   "source": []
  },
  {
   "cell_type": "code",
   "execution_count": 39,
   "id": "4c488036-0d5b-48e2-9143-44db8ded64c1",
   "metadata": {
    "tags": []
   },
   "outputs": [],
   "source": [
    "## 使用groupby()和sum()函数计算各大类商品总销售额\n",
    "productmax_total_sales = df.groupby(['商品大类','销售月份'])['销售额（万元）'].sum()"
   ]
  },
  {
   "cell_type": "code",
   "execution_count": 40,
   "id": "dbe976ad-8943-455a-bfa4-aa7b9a25aa2f",
   "metadata": {
    "tags": []
   },
   "outputs": [
    {
     "name": "stdout",
     "output_type": "stream",
     "text": [
      "商品大类      销售月份\n",
      "Adhesive  1        56.0\n",
      "          2        84.0\n",
      "          3       105.0\n",
      "          4        63.0\n",
      "          5        63.0\n",
      "          6        91.0\n",
      "          7        98.0\n",
      "          8        63.0\n",
      "          9        36.0\n",
      "          10       85.0\n",
      "          11       56.0\n",
      "          12       57.0\n",
      "Safety    1       698.0\n",
      "          2       652.0\n",
      "          3       440.0\n",
      "          4       628.0\n",
      "          5       654.0\n",
      "          6       658.0\n",
      "          7       642.0\n",
      "          8       516.0\n",
      "          9       692.0\n",
      "          10      572.0\n",
      "          11      686.0\n",
      "          12      734.0\n",
      "Tape      1        91.0\n",
      "          2        84.0\n",
      "          3        86.0\n",
      "          4        85.5\n",
      "          5        96.0\n",
      "          6       101.5\n",
      "          7       101.0\n",
      "          8       105.0\n",
      "          9       107.5\n",
      "          10       96.0\n",
      "          11      131.5\n",
      "          12       78.0\n",
      "Name: 销售额（万元）, dtype: float64\n"
     ]
    }
   ],
   "source": [
    "print(productmax_total_sales)"
   ]
  },
  {
   "cell_type": "code",
   "execution_count": null,
   "id": "03fe8e27-7c0e-444a-a7d8-1919a9ea87b5",
   "metadata": {
    "tags": []
   },
   "outputs": [],
   "source": []
  },
  {
   "cell_type": "code",
   "execution_count": null,
   "id": "b4b0bb96-3123-47d1-a6a8-ef0d6b64147e",
   "metadata": {},
   "outputs": [],
   "source": []
  },
  {
   "cell_type": "code",
   "execution_count": null,
   "id": "fab6839f-5692-49d1-8e8b-1b4665f2b7a3",
   "metadata": {
    "tags": []
   },
   "outputs": [],
   "source": []
  },
  {
   "cell_type": "code",
   "execution_count": null,
   "id": "758ba5e5-e977-4f9e-8c47-e39c888f6870",
   "metadata": {
    "tags": []
   },
   "outputs": [],
   "source": []
  },
  {
   "cell_type": "code",
   "execution_count": null,
   "id": "c4879188-55a2-49aa-8789-056eebb8767d",
   "metadata": {
    "tags": []
   },
   "outputs": [],
   "source": []
  },
  {
   "cell_type": "code",
   "execution_count": 55,
   "id": "a414c0e5-07ac-49c0-b0a9-5d5ff5a1d356",
   "metadata": {
    "tags": []
   },
   "outputs": [],
   "source": [
    "#查看各个季节的总销售额"
   ]
  },
  {
   "cell_type": "code",
   "execution_count": 61,
   "id": "aab1531f-fced-4b4e-b06a-d6eacf007a18",
   "metadata": {
    "tags": []
   },
   "outputs": [
    {
     "name": "stdout",
     "output_type": "stream",
     "text": [
      "商品代号    Adhesive 1  Adhesive 10  Adhesive 2  Adhesive 3  Adhesive 4  \\\n",
      "季节                                                                    \n",
      "Autumn        16.0         28.0        14.0         7.0        28.0   \n",
      "Spring         NaN          7.0        14.0        14.0        70.0   \n",
      "Summer         NaN          7.0        14.0        21.0        84.0   \n",
      "Winter         8.0         28.0        21.0         7.0        56.0   \n",
      "\n",
      "商品代号    Adhesive 5  Adhesive 6  Adhesive 7  Adhesive 8  Adhesive 9  ...  \\\n",
      "季节                                                                  ...   \n",
      "Autumn        21.0         7.0        14.0         7.0        35.0  ...   \n",
      "Spring        70.0         NaN        14.0        14.0        28.0  ...   \n",
      "Summer        42.0        14.0        35.0        14.0        21.0  ...   \n",
      "Winter        35.0        21.0         7.0         7.0         7.0  ...   \n",
      "\n",
      "商品代号    Tape 1  Tape 10  Tape 2  Tape 3  Tape 4  Tape 5  Tape 6  Tape 7  \\\n",
      "季节                                                                        \n",
      "Autumn    30.0    120.0     7.5     NaN     7.5    17.5    25.0   105.0   \n",
      "Spring    15.0    122.5    10.0     2.5    10.0     7.5    22.5    65.0   \n",
      "Summer    30.0    130.0     NaN    10.0     7.5    12.5     7.5    97.5   \n",
      "Winter    18.0    117.5     7.5     2.5    10.0    10.0    12.5    72.5   \n",
      "\n",
      "商品代号    Tape 8  Tape 9  \n",
      "季节                      \n",
      "Autumn    10.0    12.5  \n",
      "Spring     5.0     7.5  \n",
      "Summer     2.5    10.0  \n",
      "Winter     2.5     NaN  \n",
      "\n",
      "[4 rows x 30 columns]\n"
     ]
    }
   ],
   "source": [
    "# 将英文月份转换为月份序号\n",
    "month_to_number = {\n",
    "    'January': 1, 'February': 2, 'March': 3, 'April': 4, 'May': 5, 'June': 6,\n",
    "    'July': 7, 'August': 8, 'September': 9, 'October': 10, 'November': 11, 'December': 12\n",
    "}\n",
    "df['销售月份'] = df['销售月份'].map(month_to_number) #将月份映射入表里\n",
    "\n",
    "# 定义季节与月份的映射关系\n",
    "seasons = {\n",
    "    'Spring': [3, 4, 5],     # 春季：3月、4月、5月\n",
    "    'Summer': [6, 7, 8],     # 夏季：6月、7月、8月\n",
    "    'Autumn': [9, 10, 11],   # 秋季：9月、10月、11月\n",
    "    'Winter': [12, 1, 2]     # 冬季：12月、1月、2月\n",
    "}\n",
    "\n",
    "# 根据月份序号将数据分为四个季节\n",
    "def get_season(month):\n",
    "    for season, months in seasons.items():\n",
    "        if month in months:\n",
    "            return season\n",
    "\n",
    "df['季节'] = df['销售月份'].apply(get_season) #将数据映射在表里面 加了新列\n",
    "\n",
    "\n",
    "\n",
    "# 按季节计算总销售额\n",
    "total_sales_by_season = df.groupby(['商品代号','季节'])['销售额（万元）'].sum()\n",
    "# 重塑数据框以使商品代号成为列\n",
    "total_sales_by_season = total_sales_by_season.unstack(level=0)\n",
    "# 打印每个季节的商品的总销售额\n",
    "print(total_sales_by_season)"
   ]
  },
  {
   "cell_type": "code",
   "execution_count": null,
   "id": "87d97b19-c3e6-451b-a611-14cac77490b2",
   "metadata": {
    "tags": []
   },
   "outputs": [],
   "source": []
  },
  {
   "cell_type": "code",
   "execution_count": null,
   "id": "7301a70f-d710-47e5-89c0-e0cce59d3512",
   "metadata": {},
   "outputs": [],
   "source": []
  },
  {
   "cell_type": "code",
   "execution_count": null,
   "id": "f5876f75-ebf2-412a-beea-2f38a8e09d88",
   "metadata": {},
   "outputs": [],
   "source": []
  },
  {
   "cell_type": "code",
   "execution_count": null,
   "id": "8908caf1-5f07-4f0f-a76d-a00433e665bc",
   "metadata": {},
   "outputs": [],
   "source": []
  },
  {
   "cell_type": "code",
   "execution_count": null,
   "id": "916d0f1b-337f-4b8c-9580-d445c0842d69",
   "metadata": {},
   "outputs": [],
   "source": []
  },
  {
   "cell_type": "code",
   "execution_count": null,
   "id": "3dc5f268-30d4-468a-b32f-7de4569a3d31",
   "metadata": {},
   "outputs": [],
   "source": []
  },
  {
   "cell_type": "code",
   "execution_count": null,
   "id": "f9508b9b-5fca-44b4-b47b-a25403569a23",
   "metadata": {},
   "outputs": [],
   "source": []
  },
  {
   "cell_type": "code",
   "execution_count": null,
   "id": "cdf8e86f-2596-435f-b95b-151fd892ffe3",
   "metadata": {},
   "outputs": [],
   "source": []
  }
 ],
 "metadata": {
  "kernelspec": {
   "display_name": "neihetipdm",
   "language": "python",
   "name": "neihetipdm"
  },
  "language_info": {
   "codemirror_mode": {
    "name": "ipython",
    "version": 3
   },
   "file_extension": ".py",
   "mimetype": "text/x-python",
   "name": "python",
   "nbconvert_exporter": "python",
   "pygments_lexer": "ipython3",
   "version": "3.10.0"
  }
 },
 "nbformat": 4,
 "nbformat_minor": 5
}
